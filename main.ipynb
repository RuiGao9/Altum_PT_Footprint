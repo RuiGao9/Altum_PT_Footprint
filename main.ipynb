{
 "cells": [
  {
   "cell_type": "markdown",
   "id": "720390fe",
   "metadata": {},
   "source": [
    "# Altum_PT_Footprint"
   ]
  },
  {
   "cell_type": "code",
   "execution_count": null,
   "id": "5729ff57",
   "metadata": {},
   "outputs": [],
   "source": [
    "import os\n",
    "import time\n",
    "from latlon_to_utm import latlon_to_utm\n",
    "from get_footprint_geometry import get_footprint_geometry\n",
    "from create_fishnet import create_fishnet"
   ]
  },
  {
   "cell_type": "code",
   "execution_count": null,
   "id": "bf41869e",
   "metadata": {},
   "outputs": [],
   "source": [
    "# The height of the Altum PT sensor in meters\n",
    "height = 10\n",
    "lat = 37.3552512\n",
    "lon = -120.4128381\n",
    "# Parameters below are obtained from the Altum-PT-Flyer.pdf. You do not need to change them.\n",
    "# FOVs for each sensor\n",
    "[hfov_vnir, vfov_vnir] = [50, 38]\n",
    "[hfov_pan, vfov_pan] = [46, 35]\n",
    "[hfov_thermal, vfov_thermal] = [48, 40]\n",
    "# Sensor resolutions\n",
    "[dim_x_vnir, dim_y_vnir] = [2064, 1544]\n",
    "[dim_x_pan, dim_y_pan] = [4112, 3008]\n",
    "[dim_x_thermal, dim_y_thermal] = [320, 256]"
   ]
  },
  {
   "cell_type": "code",
   "execution_count": null,
   "id": "9c1ea10a",
   "metadata": {},
   "outputs": [],
   "source": [
    "# Convert center lat/lon to UTM\n",
    "center_x, center_y = latlon_to_utm(lat, lon)\n",
    "\n",
    "# Get thermal footprint and pixel size\n",
    "fw, fh, pw, ph = get_footprint_geometry(hfov_thermal, vfov_thermal, dim_x_thermal, dim_y_thermal, height)\n",
    "\n",
    "# Generate fishnet\n",
    "gdf_thermal = create_fishnet(center_x, center_y, fw, fh, pw, ph)\n",
    "\n",
    "# Export\n",
    "gdf_thermal.to_file(\"thermal_fishnet.shp\")\n"
   ]
  }
 ],
 "metadata": {
  "kernelspec": {
   "display_name": "footprint",
   "language": "python",
   "name": "python3"
  },
  "language_info": {
   "name": "python",
   "version": "3.12.8"
  }
 },
 "nbformat": 4,
 "nbformat_minor": 5
}
