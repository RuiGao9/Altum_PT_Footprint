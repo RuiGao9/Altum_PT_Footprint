{
 "cells": [
  {
   "cell_type": "markdown",
   "id": "720390fe",
   "metadata": {},
   "source": [
    "# Altum_PT_Footprint"
   ]
  },
  {
   "cell_type": "code",
   "execution_count": null,
   "id": "5729ff57",
   "metadata": {},
   "outputs": [],
   "source": [
    "import numpy as np\n"
   ]
  },
  {
   "cell_type": "code",
   "execution_count": null,
   "id": "bf41869e",
   "metadata": {},
   "outputs": [],
   "source": [
    "# The height of the Altum PT sensor in meters\n",
    "height = 10\n",
    "lat = 37.3552512\n",
    "lon = -120.4128381\n",
    "hov_vnir = 50\n",
    "hov_thermal = 40\n",
    "[dim_x_vnir, dim_y_vnir] = [640, 512]\n",
    "[dim_x_thermal, dim_y_thermal] = [640, 512]"
   ]
  }
 ],
 "metadata": {
  "kernelspec": {
   "display_name": "footprint",
   "language": "python",
   "name": "python3"
  },
  "language_info": {
   "name": "python",
   "version": "3.12.8"
  }
 },
 "nbformat": 4,
 "nbformat_minor": 5
}
