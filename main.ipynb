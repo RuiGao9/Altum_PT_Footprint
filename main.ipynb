{
 "cells": [
  {
   "cell_type": "markdown",
   "id": "720390fe",
   "metadata": {},
   "source": [
    "# Altum_PT_Footprint"
   ]
  },
  {
   "cell_type": "code",
   "execution_count": 1,
   "id": "5729ff57",
   "metadata": {},
   "outputs": [],
   "source": [
    "import os\n",
    "import time\n",
    "from latlon_to_utm import latlon_to_utm\n",
    "from get_footprint_geometry import get_footprint_geometry\n",
    "from create_fishnet import create_fishnet"
   ]
  },
  {
   "cell_type": "code",
   "execution_count": 2,
   "id": "bf41869e",
   "metadata": {},
   "outputs": [],
   "source": [
    "# Define the folder path where to save the output files\n",
    "output_folder = r\"D:\\1_Postdoc\\2_Projects\\202508_Altum_PT_Footprint\\1_Results_Footprint_Model\"\n",
    "# The height of the Altum PT sensor in meters\n",
    "height = 45\n",
    "lat = 37.3552512\n",
    "lon = -120.4128381\n",
    "# Parameters below are obtained from the Altum-PT-Flyer.pdf. You do not need to change them.\n",
    "# FOVs for each sensor\n",
    "[hfov_vnir, vfov_vnir] = [50, 38]               # Multispectral sensor\n",
    "[hfov_pan, vfov_pan] = [46, 35]                 # Panchromatic sensor\n",
    "[hfov_thermal, vfov_thermal] = [48, 40]         # Thermal sensor\n",
    "# Sensor resolutions\n",
    "[dim_x_vnir, dim_y_vnir] = [2064, 1544]         # Multispectral sensor\n",
    "[dim_x_pan, dim_y_pan] = [4112, 3008]           # Panchromatic sensor\n",
    "[dim_x_thermal, dim_y_thermal] = [320, 256]     # Thermal sensor"
   ]
  },
  {
   "cell_type": "code",
   "execution_count": null,
   "id": "9c1ea10a",
   "metadata": {},
   "outputs": [
    {
     "name": "stdout",
     "output_type": "stream",
     "text": [
      "Processing VNIR sensor footprint...\n",
      "Done!!! VNIR sensor footprint is processed.\n",
      "\n",
      "Processing PAN sensor footprint...\n"
     ]
    }
   ],
   "source": [
    "start_time = time.time()\n",
    "# Convert center lat/lon to UTM\n",
    "center_x, center_y = latlon_to_utm(lat, lon)\n",
    "\n",
    "### === Processing for VNIR sensor === ###\n",
    "print(\"Processing VNIR sensor footprint...\")\n",
    "# Get VNIR footprint and pixel size\n",
    "fw_vnir, fh_vnir, pw_vnir, ph_vnir = get_footprint_geometry(\n",
    "    hfov_vnir, vfov_vnir, dim_x_vnir, dim_y_vnir, height)\n",
    "# Generate fishnet and save to shapefile\n",
    "gdf_vnir = create_fishnet(center_x, center_y, fw_vnir, fh_vnir, pw_vnir, ph_vnir)\n",
    "gdf_vnir.to_file(os.path.join(output_folder, \"vnir_fishnet.shp\"))\n",
    "print(f\"Multispectral image pixel resolution: {pw_vnir:.4f} m (width) x {ph_vnir:.4f} m (height)\")\n",
    "print(\"Done!!! VNIR sensor footprint is processed.\\n\")\n",
    "\n",
    "### === Processing for PAN sensor === ###\n",
    "print(\"Processing PAN sensor footprint...\")\n",
    "# Get PAN footprint and pixel size\n",
    "fw_pan, fh_pan, pw_pan, ph_pan = get_footprint_geometry(\n",
    "    hfov_pan, vfov_pan, dim_x_pan, dim_y_pan, height)\n",
    "# Generate fishnet and save to shapefile\n",
    "gdf_pan = create_fishnet(center_x, center_y, fw_pan, fh_pan, pw_pan, ph_pan)\n",
    "gdf_pan.to_file(os.path.join(output_folder, \"pan_fishnet.shp\"))\n",
    "print(f\"Panchromatic image pixel resolution: {pw_pan:.4f} m (width) x {ph_pan:.4f} m (height)\")\n",
    "print(\"Done!!! PAN sensor footprint is processed.\\n\")\n",
    "\n",
    "### === Processing for thermal sensor === ###\n",
    "print(\"Processing thermal sensor footprint...\")\n",
    "# Get thermal footprint and pixel size\n",
    "fw_thermal, fh_thermal, pw_thermal, ph_thermal = get_footprint_geometry(hfov_thermal, vfov_thermal, dim_x_thermal, dim_y_thermal, height)\n",
    "# Generate fishnet and save to shapefile\n",
    "gdf_thermal = create_fishnet(center_x, center_y, fw_thermal, fh_thermal, pw_thermal, ph_thermal)\n",
    "gdf_thermal.to_file(os.path.join(output_folder, \"thermal_fishnet.shp\"))\n",
    "print(f\"Thermal image pixel resolution: {pw_thermal:.4f} m (width) x {ph_thermal:.4f} m (height)\")\n",
    "print(\"Done!!! Thermal sensor footprint is processed.\")\n",
    "\n",
    "end_time = time.time()\n",
    "elapsed = end_time - start_time\n",
    "minutes = int(elapsed // 60)\n",
    "seconds = int(elapsed % 60)\n",
    "print(f\"Elapsed time: {minutes} minutes {seconds} seconds\")\n"
   ]
  }
 ],
 "metadata": {
  "kernelspec": {
   "display_name": "footprint",
   "language": "python",
   "name": "python3"
  },
  "language_info": {
   "codemirror_mode": {
    "name": "ipython",
    "version": 3
   },
   "file_extension": ".py",
   "mimetype": "text/x-python",
   "name": "python",
   "nbconvert_exporter": "python",
   "pygments_lexer": "ipython3",
   "version": "3.12.8"
  }
 },
 "nbformat": 4,
 "nbformat_minor": 5
}
